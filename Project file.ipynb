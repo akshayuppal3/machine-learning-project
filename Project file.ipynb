{
 "cells": [
  {
   "cell_type": "markdown",
   "metadata": {},
   "source": [
    "## Project file"
   ]
  },
  {
   "cell_type": "markdown",
   "metadata": {},
   "source": [
    "### Data Exploration"
   ]
  },
  {
   "cell_type": "code",
   "execution_count": 899,
   "metadata": {
    "collapsed": true
   },
   "outputs": [],
   "source": [
    "from data import *\n",
    "import data\n",
    "from util import *\n",
    "import warnings\n",
    "columns = pd.read_csv('columns.csv')\n",
    "responses = pd.read_csv('responses.csv')"
   ]
  },
  {
   "cell_type": "markdown",
   "metadata": {},
   "source": [
    "Looking at the data"
   ]
  },
  {
   "cell_type": "code",
   "execution_count": 925,
   "metadata": {},
   "outputs": [
    {
     "data": {
      "text/html": [
       "<div>\n",
       "<style scoped>\n",
       "    .dataframe tbody tr th:only-of-type {\n",
       "        vertical-align: middle;\n",
       "    }\n",
       "\n",
       "    .dataframe tbody tr th {\n",
       "        vertical-align: top;\n",
       "    }\n",
       "\n",
       "    .dataframe thead th {\n",
       "        text-align: right;\n",
       "    }\n",
       "</style>\n",
       "<table border=\"1\" class=\"dataframe\">\n",
       "  <thead>\n",
       "    <tr style=\"text-align: right;\">\n",
       "      <th></th>\n",
       "      <th>Music</th>\n",
       "      <th>Slow songs or fast songs</th>\n",
       "      <th>Dance</th>\n",
       "      <th>Folk</th>\n",
       "      <th>Country</th>\n",
       "      <th>Classical music</th>\n",
       "      <th>Musical</th>\n",
       "      <th>Pop</th>\n",
       "      <th>Rock</th>\n",
       "      <th>Metal or Hardrock</th>\n",
       "      <th>...</th>\n",
       "      <th>Age</th>\n",
       "      <th>Height</th>\n",
       "      <th>Weight</th>\n",
       "      <th>Number of siblings</th>\n",
       "      <th>Gender</th>\n",
       "      <th>Left - right handed</th>\n",
       "      <th>Education</th>\n",
       "      <th>Only child</th>\n",
       "      <th>Village - town</th>\n",
       "      <th>House - block of flats</th>\n",
       "    </tr>\n",
       "  </thead>\n",
       "  <tbody>\n",
       "    <tr>\n",
       "      <th>0</th>\n",
       "      <td>5.0</td>\n",
       "      <td>3.0</td>\n",
       "      <td>2.0</td>\n",
       "      <td>1.0</td>\n",
       "      <td>2.0</td>\n",
       "      <td>2.0</td>\n",
       "      <td>1.0</td>\n",
       "      <td>5.0</td>\n",
       "      <td>5.0</td>\n",
       "      <td>1.0</td>\n",
       "      <td>...</td>\n",
       "      <td>20.0</td>\n",
       "      <td>163.0</td>\n",
       "      <td>48.0</td>\n",
       "      <td>1.0</td>\n",
       "      <td>female</td>\n",
       "      <td>right handed</td>\n",
       "      <td>college/bachelor degree</td>\n",
       "      <td>no</td>\n",
       "      <td>village</td>\n",
       "      <td>block of flats</td>\n",
       "    </tr>\n",
       "    <tr>\n",
       "      <th>1</th>\n",
       "      <td>4.0</td>\n",
       "      <td>4.0</td>\n",
       "      <td>2.0</td>\n",
       "      <td>1.0</td>\n",
       "      <td>1.0</td>\n",
       "      <td>1.0</td>\n",
       "      <td>2.0</td>\n",
       "      <td>3.0</td>\n",
       "      <td>5.0</td>\n",
       "      <td>4.0</td>\n",
       "      <td>...</td>\n",
       "      <td>19.0</td>\n",
       "      <td>163.0</td>\n",
       "      <td>58.0</td>\n",
       "      <td>2.0</td>\n",
       "      <td>female</td>\n",
       "      <td>right handed</td>\n",
       "      <td>college/bachelor degree</td>\n",
       "      <td>no</td>\n",
       "      <td>city</td>\n",
       "      <td>block of flats</td>\n",
       "    </tr>\n",
       "    <tr>\n",
       "      <th>2</th>\n",
       "      <td>5.0</td>\n",
       "      <td>5.0</td>\n",
       "      <td>2.0</td>\n",
       "      <td>2.0</td>\n",
       "      <td>3.0</td>\n",
       "      <td>4.0</td>\n",
       "      <td>5.0</td>\n",
       "      <td>3.0</td>\n",
       "      <td>5.0</td>\n",
       "      <td>3.0</td>\n",
       "      <td>...</td>\n",
       "      <td>20.0</td>\n",
       "      <td>176.0</td>\n",
       "      <td>67.0</td>\n",
       "      <td>2.0</td>\n",
       "      <td>female</td>\n",
       "      <td>right handed</td>\n",
       "      <td>secondary school</td>\n",
       "      <td>no</td>\n",
       "      <td>city</td>\n",
       "      <td>block of flats</td>\n",
       "    </tr>\n",
       "    <tr>\n",
       "      <th>3</th>\n",
       "      <td>5.0</td>\n",
       "      <td>3.0</td>\n",
       "      <td>2.0</td>\n",
       "      <td>1.0</td>\n",
       "      <td>1.0</td>\n",
       "      <td>1.0</td>\n",
       "      <td>1.0</td>\n",
       "      <td>2.0</td>\n",
       "      <td>2.0</td>\n",
       "      <td>1.0</td>\n",
       "      <td>...</td>\n",
       "      <td>22.0</td>\n",
       "      <td>172.0</td>\n",
       "      <td>59.0</td>\n",
       "      <td>1.0</td>\n",
       "      <td>female</td>\n",
       "      <td>right handed</td>\n",
       "      <td>college/bachelor degree</td>\n",
       "      <td>yes</td>\n",
       "      <td>city</td>\n",
       "      <td>house/bungalow</td>\n",
       "    </tr>\n",
       "    <tr>\n",
       "      <th>4</th>\n",
       "      <td>5.0</td>\n",
       "      <td>3.0</td>\n",
       "      <td>4.0</td>\n",
       "      <td>3.0</td>\n",
       "      <td>2.0</td>\n",
       "      <td>4.0</td>\n",
       "      <td>3.0</td>\n",
       "      <td>5.0</td>\n",
       "      <td>3.0</td>\n",
       "      <td>1.0</td>\n",
       "      <td>...</td>\n",
       "      <td>20.0</td>\n",
       "      <td>170.0</td>\n",
       "      <td>59.0</td>\n",
       "      <td>1.0</td>\n",
       "      <td>female</td>\n",
       "      <td>right handed</td>\n",
       "      <td>secondary school</td>\n",
       "      <td>no</td>\n",
       "      <td>village</td>\n",
       "      <td>house/bungalow</td>\n",
       "    </tr>\n",
       "  </tbody>\n",
       "</table>\n",
       "<p>5 rows × 150 columns</p>\n",
       "</div>"
      ],
      "text/plain": [
       "   Music  Slow songs or fast songs  Dance  Folk  Country  Classical music  \\\n",
       "0    5.0                       3.0    2.0   1.0      2.0              2.0   \n",
       "1    4.0                       4.0    2.0   1.0      1.0              1.0   \n",
       "2    5.0                       5.0    2.0   2.0      3.0              4.0   \n",
       "3    5.0                       3.0    2.0   1.0      1.0              1.0   \n",
       "4    5.0                       3.0    4.0   3.0      2.0              4.0   \n",
       "\n",
       "   Musical  Pop  Rock  Metal or Hardrock           ...             Age  \\\n",
       "0      1.0  5.0   5.0                1.0           ...            20.0   \n",
       "1      2.0  3.0   5.0                4.0           ...            19.0   \n",
       "2      5.0  3.0   5.0                3.0           ...            20.0   \n",
       "3      1.0  2.0   2.0                1.0           ...            22.0   \n",
       "4      3.0  5.0   3.0                1.0           ...            20.0   \n",
       "\n",
       "   Height  Weight  Number of siblings  Gender  Left - right handed  \\\n",
       "0   163.0    48.0                 1.0  female         right handed   \n",
       "1   163.0    58.0                 2.0  female         right handed   \n",
       "2   176.0    67.0                 2.0  female         right handed   \n",
       "3   172.0    59.0                 1.0  female         right handed   \n",
       "4   170.0    59.0                 1.0  female         right handed   \n",
       "\n",
       "                 Education  Only child  Village - town  House - block of flats  \n",
       "0  college/bachelor degree          no         village          block of flats  \n",
       "1  college/bachelor degree          no            city          block of flats  \n",
       "2         secondary school          no            city          block of flats  \n",
       "3  college/bachelor degree         yes            city          house/bungalow  \n",
       "4         secondary school          no         village          house/bungalow  \n",
       "\n",
       "[5 rows x 150 columns]"
      ]
     },
     "execution_count": 925,
     "metadata": {},
     "output_type": "execute_result"
    }
   ],
   "source": [
    "responses.head()"
   ]
  },
  {
   "cell_type": "markdown",
   "metadata": {},
   "source": [
    "## Checking correleation of some features  with Empathy"
   ]
  },
  {
   "cell_type": "markdown",
   "metadata": {},
   "source": [
    "Checking correlation of Empathy with some of handpicked features"
   ]
  },
  {
   "cell_type": "code",
   "execution_count": 615,
   "metadata": {},
   "outputs": [
    {
     "name": "stdout",
     "output_type": "stream",
     "text": [
      "['Giving', 'Compassion to animals', 'Friends versus money', 'Final judgement', 'Self-criticism']\n"
     ]
    },
    {
     "data": {
      "image/png": "[encoded data removed]",
      "text/plain": [
       "<Figure size 432x288 with 1 Axes>"
      ]
     },
     "metadata": {},
     "output_type": "display_data"
    }
   ],
   "source": [
    "from sklearn.feature_selection import mutual_info_classif as mf\n",
    "import matplotlib.pyplot as plt\n",
    "#list of items that relate to emapthy\n",
    "items_list = ['Fake','Compassion to animals','Final judgement','Giving', 'Friends versus money','Fun with friends','Criminal damage','Loneliness','Funniness','Self-criticism','Empathy']\n",
    "empathy_data = responses.filter(items = items_list)\n",
    "empathy_X = empathy_data.iloc[:,0:-1]\n",
    "empathy_target = empathy_data.iloc[:,-1]\n",
    "empathy_X, empathy_target = missing_values(empathy_X, empathy_target)\n",
    "b = mf(empathy_X,empathy_target,discrete_features=[0,1,2,3,4,5,6,7,8,9])\n",
    "a  = np.argsort(b)[::-1]\n",
    "items_1 = [items_list[i] for i in a][:5]\n",
    "#looking atthe best of 5 features\n",
    "print(items_1)\n",
    "plt.barh(np.arange(10),[b[i] for i in a],tick_label=[items_list[i] for i in a])\n",
    "plt.xlabel('Correlation with empathy',fontsize=18)\n",
    "plt.show()"
   ]
  },
  {
   "cell_type": "markdown",
   "metadata": {},
   "source": [
    "The result seems to be intuitive to our understanding as the features like compassion, giving seems to be a lot correrelated to empathy but features like self-criticism and final judgment doesnn't seem to be intuitive."
   ]
  },
  {
   "cell_type": "markdown",
   "metadata": {},
   "source": [
    "# Preprocessing"
   ]
  },
  {
   "cell_type": "code",
   "execution_count": 878,
   "metadata": {},
   "outputs": [
    {
     "name": "stdout",
     "output_type": "stream",
     "text": [
      "preprocessing data\n"
     ]
    }
   ],
   "source": [
    "import importlib\n",
    "importlib.reload(util)\n",
    "import preprocess as pr\n",
    "x = data.Load()\n",
    "y = pr.Preprocess()\n",
    "X_train,Y_train,X_dev,Y_dev,X_test,Y_test = y.get_data()"
   ]
  },
  {
   "cell_type": "markdown",
   "metadata": {},
   "source": [
    "Training on decision tree"
   ]
  },
  {
   "cell_type": "code",
   "execution_count": 921,
   "metadata": {},
   "outputs": [
    {
     "data": {
      "image/png": "[encoded data removed]",
      "text/plain": [
       "<Figure size 432x288 with 1 Axes>"
      ]
     },
     "metadata": {},
     "output_type": "display_data"
    }
   ],
   "source": [
    "from sklearn.tree import DecisionTreeClassifier\n",
    "import numpy as np\n",
    "training_error = list()\n",
    "development_error = list()\n",
    "testing_error = list()\n",
    "for i in range(1,21):\n",
    "    dt = DecisionTreeClassifier(max_depth = i,random_state = 4)\n",
    "    dt.fit(X_train,Y_train)\n",
    "    training_error.append(1-np.mean(dt.predict(X_train) == Y_train))\n",
    "    development_error.append(1-np.mean(dt.predict(X_dev) == Y_dev))\n",
    "%matplotlib inline\n",
    "import matplotlib.pyplot as plt\n",
    "plt.style.use(\"fivethirtyeight\")\n",
    "xs = np.arange(0,20)\n",
    "p1 = plt.plot(xs,training_error, 'o-', label = 'train')\n",
    "p2 = plt.plot(xs,development_error, 'o-', label = 'dev')\n",
    "plt.legend(loc='right')\n",
    "plt.xlabel(\"depth of the tree\")    \n",
    "plt.ylabel(\"developmetn error\")\n",
    "plt.show()"
   ]
  },
  {
   "cell_type": "markdown",
   "metadata": {},
   "source": [
    "So based on the development data we would select the depth of 3 as the best depth , as after this point the development error seems to increase and the data seems to overfit."
   ]
  },
  {
   "cell_type": "markdown",
   "metadata": {},
   "source": [
    "### Baseline models"
   ]
  },
  {
   "cell_type": "markdown",
   "metadata": {},
   "source": [
    "Decision trees"
   ]
  },
  {
   "cell_type": "code",
   "execution_count": 696,
   "metadata": {},
   "outputs": [
    {
     "name": "stdout",
     "output_type": "stream",
     "text": [
      "0.4207920792079208\n"
     ]
    }
   ],
   "source": [
    "import importlib\n",
    "import util as ut\n",
    "importlib.reload(util)\n",
    "tree =  ut.decision_tree(X_train,Y_train)\n",
    "score = ut.prediction(tree,X_dev,Y_dev)\n",
    "print(score)"
   ]
  },
  {
   "cell_type": "markdown",
   "metadata": {},
   "source": [
    "This is the accuracy of the deciosn trees"
   ]
  },
  {
   "cell_type": "code",
   "execution_count": 700,
   "metadata": {},
   "outputs": [
    {
     "name": "stdout",
     "output_type": "stream",
     "text": [
      "SVM accuarcy:  0.35148514851485146\n"
     ]
    }
   ],
   "source": [
    "from util import *\n",
    "importlib.reload(util)\n",
    "svm1 = svm_wrapper(X_train,Y_train)\n",
    "score = ut.prediction(svm1,X_dev,Y_dev)\n",
    "print(\"SVM accuarcy: \",score)"
   ]
  },
  {
   "cell_type": "markdown",
   "metadata": {},
   "source": [
    "SVM seems to give result even worse than the baseline models. As the data is skewed towards label 3,4 and 5, it could be the reason that SVM is giving worse results\n",
    "\n",
    "Based on the precisin, recall , it seems like data is skewed\n",
    "######  \n",
    "  Classification Report:\n",
    "              precision    recall  f1-score   support\n",
    "\n",
    "        1.0       0.00      0.00      0.00         4\n",
    "        2.0       0.00      0.00      0.00        11\n",
    "        3.0       0.00      0.00      0.00        12\n",
    "        4.0       0.30      0.18      0.23        39\n",
    "        5.0       0.36      0.82      0.50        34\n"
   ]
  },
  {
   "cell_type": "markdown",
   "metadata": {},
   "source": [
    "Naive bayes"
   ]
  },
  {
   "cell_type": "code",
   "execution_count": 927,
   "metadata": {},
   "outputs": [
    {
     "name": "stdout",
     "output_type": "stream",
     "text": [
      "0.35148514851485146\n"
     ]
    }
   ],
   "source": [
    "from sklearn.naive_bayes import BernoulliNB\n",
    "clf = BernoulliNB()\n",
    "clf.fit(X_train, Y_train)\n",
    "print(np.mean(clf.predict(X_dev) == Y_dev))"
   ]
  },
  {
   "cell_type": "markdown",
   "metadata": {},
   "source": [
    "Accuracy of naive Bayes seems to correlate that some of the features can be considered as independent of other"
   ]
  },
  {
   "cell_type": "code",
   "execution_count": 704,
   "metadata": {},
   "outputs": [
    {
     "name": "stdout",
     "output_type": "stream",
     "text": [
      "0.35148514851485146\n"
     ]
    }
   ],
   "source": [
    "from util import *\n",
    "importlib.reload(util)\n",
    "mlp = mlp_wrapper(X_train, Y_train)\n",
    "score = ut.prediction(mlp,X_dev,Y_dev)\n",
    "print(score)"
   ]
  },
  {
   "cell_type": "markdown",
   "metadata": {},
   "source": [
    "MLP without any parameter tuning give score almost close to the baseline model"
   ]
  },
  {
   "cell_type": "markdown",
   "metadata": {},
   "source": [
    "### Tuning the hyperparemeters of KNN"
   ]
  },
  {
   "cell_type": "code",
   "execution_count": 929,
   "metadata": {},
   "outputs": [
    {
     "data": {
      "image/png": "[encoded data removed]",
      "text/plain": [
       "<Figure size 432x288 with 1 Axes>"
      ]
     },
     "metadata": {},
     "output_type": "display_data"
    }
   ],
   "source": [
    "from util import *\n",
    "import matplotlib.pyplot as plt\n",
    "importlib.reload(util)\n",
    "training_acc = []\n",
    "dev_acc =[]\n",
    "for i in range(1,25):\n",
    "    knn = KNeighborsClassifier(n_neighbors= i)\n",
    "    knn.fit(X_train,Y_train)\n",
    "    Y_pred = knn.predict(X_dev)\n",
    "    dev_acc.append(np.mean(Y_pred == Y_dev))\n",
    "    Y_pred_train = knn.predict(X_train)\n",
    "    training_acc.append(np.mean(Y_train == Y_pred_train))\n",
    "%matplotlib inline\n",
    "plt.style.use(\"fivethirtyeight\")\n",
    "xs = np.arange(1,25)\n",
    "p1 = plt.plot(xs,dev_acc ,'o-', label = 'development')\n",
    "p2 = plt.plot(xs,training_acc, 'o-', label = 'training')\n",
    "plt.legend(loc='right')\n",
    "plt.xlabel(\"no of neighbours\")    \n",
    "plt.ylabel(\"devlopment accuracy\")\n",
    "plt.show()"
   ]
  },
  {
   "cell_type": "markdown",
   "metadata": {},
   "source": [
    "#### So with only knn with n=6 that devlopment accuracy seems to decrease and after that model might overfit "
   ]
  },
  {
   "cell_type": "markdown",
   "metadata": {},
   "source": [
    "Trying bagging with decision tree and trying depth of different decision tree"
   ]
  },
  {
   "cell_type": "code",
   "execution_count": 220,
   "metadata": {},
   "outputs": [
    {
     "data": {
      "image/png": "[encoded data removed]",
      "text/plain": [
       "<Figure size 432x288 with 1 Axes>"
      ]
     },
     "metadata": {},
     "output_type": "display_data"
    }
   ],
   "source": [
    "from util import *\n",
    "import numpy as np\n",
    "importlib.reload(util)\n",
    "dev_acc = list()\n",
    "for i in range(1,20):\n",
    "    score,_ = bagging(X_train, Y_train, X_dev, Y_dev, i)\n",
    "    dev_acc.append(score)\n",
    "%matplotlib inline\n",
    "plt.style.use(\"fivethirtyeight\")\n",
    "xs = np.arange(1,20)\n",
    "p1 = plt.plot(xs,dev_acc, 'o-', label = 'train')\n",
    "plt.legend(loc='right')\n",
    "plt.xlabel(\"no of estimators\")    \n",
    "plt.ylabel(\"accuracy\")\n",
    "plt.show()"
   ]
  },
  {
   "cell_type": "markdown",
   "metadata": {},
   "source": [
    "With no of estimator =14 seems to be the best parameter when bagging(with base element as trees)."
   ]
  },
  {
   "cell_type": "markdown",
   "metadata": {},
   "source": [
    "### Plotting the scatterplot for PCA"
   ]
  },
  {
   "cell_type": "code",
   "execution_count": 637,
   "metadata": {},
   "outputs": [
    {
     "name": "stdout",
     "output_type": "stream",
     "text": [
      "(606, 3)\n",
      "[0.75318698 0.13789891]\n"
     ]
    }
   ],
   "source": [
    "from sklearn.manifold import TSNE\n",
    "from sklearn.decomposition import PCA\n",
    "X_embedded = TSNE(n_components=3).fit_transform(X_train)\n",
    "\n",
    "pca = PCA(n_components=2)\n",
    "#pca.fit(X_train)\n",
    "pca_result = pca.fit_transform(X_train)\n",
    "print(X_embedded.shape)\n",
    "print(pca.explained_variance_ratio_)"
   ]
  },
  {
   "cell_type": "code",
   "execution_count": 639,
   "metadata": {},
   "outputs": [
    {
     "data": {
      "text/plain": [
       "<matplotlib.collections.PathCollection at 0x55583507f0>"
      ]
     },
     "execution_count": 639,
     "metadata": {},
     "output_type": "execute_result"
    },
    {
     "data": {
      "image/png": "[encoded data removed]",
      "text/plain": [
       "<Figure size 7200x720 with 1 Axes>"
      ]
     },
     "metadata": {},
     "output_type": "display_data"
    }
   ],
   "source": [
    "from ggplot import *\n",
    "from mpl_toolkits.mplot3d import Axes3D\n",
    "from matplotlib.ticker import NullFormatter\n",
    "color = ['blue','red']\n",
    "fig = plt.figure(figsize=(100,10 ))\n",
    "ax = fig.add_subplot(251)\n",
    "ax.scatter(pca_result[:,0], pca_result[:,1],color=color,cmap=plt.cm.Spectral)"
   ]
  },
  {
   "cell_type": "markdown",
   "metadata": {},
   "source": [
    "### Trying bagging with dt as base model"
   ]
  },
  {
   "cell_type": "code",
   "execution_count": 931,
   "metadata": {},
   "outputs": [
    {
     "name": "stdout",
     "output_type": "stream",
     "text": [
      "0.40594059405940597\n"
     ]
    }
   ],
   "source": [
    "from util import *\n",
    "importlib.reload(util)\n",
    "tree = decision_tree(X_train, Y_train) \n",
    "bag = BaggingClassifier(random_state= 4,base_estimator = tree)\n",
    "bag.fit(X_train,Y_train)\n",
    "Y_pred = bag.predict(X_dev)\n",
    "score = accuracy_score(Y_dev,Y_pred)\n",
    "print(score)"
   ]
  },
  {
   "cell_type": "markdown",
   "metadata": {},
   "source": [
    "#### Applying PCA with parameter tuning of decision trees. Finding accuarcy with different depth of decision tree"
   ]
  },
  {
   "cell_type": "code",
   "execution_count": 711,
   "metadata": {},
   "outputs": [
    {
     "data": {
      "image/png": "[encoded data removed]",
      "text/plain": [
       "<Figure size 432x288 with 1 Axes>"
      ]
     },
     "metadata": {},
     "output_type": "display_data"
    }
   ],
   "source": [
    "from sklearn.pipeline import Pipeline\n",
    "score = [0]\n",
    "for i in range(1,20):\n",
    "    estimators1 = [('tree', PCA()), ('clf', DecisionTreeClassifier(max_depth =i,random_state = 4) )]\n",
    "    pipe1 = Pipeline(estimators1)\n",
    "    pipe1.fit(X_train,Y_train)\n",
    "    Y_pred = pipe1.predict(X_dev)\n",
    "    score.append(np.mean(Y_pred == Y_dev))\n",
    "%matplotlib inline\n",
    "plt.style.use(\"fivethirtyeight\")\n",
    "xs = np.arange(1,20)\n",
    "p1 = plt.plot(xs,score[1:], 'o-', label = 'train')\n",
    "plt.legend(loc='right')\n",
    "plt.xlabel(\"depth of the tree\")    \n",
    "plt.ylabel(\"accuracy\")\n",
    "plt.show()"
   ]
  },
  {
   "cell_type": "markdown",
   "metadata": {},
   "source": [
    "### Trying parameter tuning with grid search"
   ]
  },
  {
   "cell_type": "markdown",
   "metadata": {},
   "source": [
    "#### Decison trees tuning"
   ]
  },
  {
   "cell_type": "code",
   "execution_count": 712,
   "metadata": {},
   "outputs": [
    {
     "name": "stdout",
     "output_type": "stream",
     "text": [
      "0.34969610822468383\n"
     ]
    }
   ],
   "source": [
    "from sklearn.model_selection import GridSearchCV\n",
    "param_grid = [\n",
    "  {'max_depth':np.arange(2,50)},\n",
    " ]\n",
    "tree = GridSearchCV(DecisionTreeClassifier(),param_grid) \n",
    "tree.fit(X_train,Y_train)\n",
    "Y_pred = tree.predict(X_dev)\n",
    "print(np.mean(Y_pred == Y_dev))"
   ]
  },
  {
   "cell_type": "markdown",
   "metadata": {},
   "source": [
    "This gives the best possible accuracy of decision tree with best possible values of depth, based on training accuracy"
   ]
  },
  {
   "cell_type": "markdown",
   "metadata": {},
   "source": [
    "#### knn Tuning"
   ]
  },
  {
   "cell_type": "code",
   "execution_count": 720,
   "metadata": {},
   "outputs": [
    {
     "name": "stdout",
     "output_type": "stream",
     "text": [
      "0.3195765121066562\n"
     ]
    }
   ],
   "source": [
    "param_grid = [{'n_neighbors': np.arange(2,250,20)}]\n",
    "knn = GridSearchCV(KNeighborsClassifier(),param_grid) \n",
    "knn.fit(X_train,Y_train)\n",
    "Y_pred = knn.predict(X_dev)\n",
    "print(np.mean(Y_pred == Y_dev))"
   ]
  },
  {
   "cell_type": "markdown",
   "metadata": {},
   "source": [
    "#####  SVM tuning"
   ]
  },
  {
   "cell_type": "code",
   "execution_count": 721,
   "metadata": {},
   "outputs": [
    {
     "name": "stdout",
     "output_type": "stream",
     "text": [
      "0.3254827958043329\n"
     ]
    }
   ],
   "source": [
    "from sklearn.svm import SVC\n",
    "param_grid = [\n",
    "  {'C': [1, 10, 100, 1000], 'kernel': ['linear']},\n",
    "  {'C': [1, 10, 100, 1000], 'gamma': [1,0.1,0.01,0.001, 0.0001], 'kernel': ['rbf']},]\n",
    "svm = GridSearchCV(SVC(),param_grid)\n",
    "svm.fit(X_train,Y_train)\n",
    "Y_pred = svm.predict(X_dev)\n",
    "print(np.mean(Y_pred == Y_dev))"
   ]
  },
  {
   "cell_type": "markdown",
   "metadata": {},
   "source": [
    "#### Tuning multi layer perceptron"
   ]
  },
  {
   "cell_type": "code",
   "execution_count": 722,
   "metadata": {},
   "outputs": [
    {
     "name": "stdout",
     "output_type": "stream",
     "text": [
      "0.35148514851485146\n"
     ]
    }
   ],
   "source": [
    "from sklearn.neural_network import MLPClassifier\n",
    "# clf = MLPClassifier(hidden_layer_sizes = (hidden_layer),activation = 'relu')\n",
    "param_grid = [{'hidden_layer_sizes':np.arange(10,150,10),'max_iter':[30] ,'activation':['logistic', 'tanh','relu']}]\n",
    "mlp_n = GridSearchCV(MLPClassifier(), param_grid)\n",
    "mlp_n.fit(X_train,Y_train)\n",
    "Y_pred = mlp_n.predict(X_dev)\n",
    "print(np.mean(Y_pred==Y_dev))"
   ]
  },
  {
   "cell_type": "markdown",
   "metadata": {},
   "source": [
    "##### Bagging with decison trees"
   ]
  },
  {
   "cell_type": "code",
   "execution_count": 482,
   "metadata": {},
   "outputs": [
    {
     "name": "stdout",
     "output_type": "stream",
     "text": [
      "bagging with decision tree: 0.4306930693069307\n"
     ]
    }
   ],
   "source": [
    "score = []\n",
    "for i in range(1,5):\n",
    "    dt = DecisionTreeClassifier(max_depth = i,random_state = 4)\n",
    "    param_grid = [{'n_estimators': np.arange(1,30),'base_estimator':[dt]}]\n",
    "    bag = GridSearchCV(BaggingClassifier(), param_grid)\n",
    "    bag.fit(X_train, Y_train)\n",
    "    Y_pred = bag.predict(X_dev)\n",
    "    score.append(accuracy_score(Y_dev,Y_pred))\n",
    "sc = np.sort(score)[::-1][0]\n",
    "print(\"bagging with decision tree:\", sc)"
   ]
  },
  {
   "cell_type": "markdown",
   "metadata": {},
   "source": [
    "Ensembling the bag model obtained as the base model to further ensemble"
   ]
  },
  {
   "cell_type": "code",
   "execution_count": 487,
   "metadata": {},
   "outputs": [
    {
     "name": "stdout",
     "output_type": "stream",
     "text": [
      "0.4405940594059406\n"
     ]
    }
   ],
   "source": [
    "score1= []\n",
    "param_grid = [{'n_estimators': np.arange(1,20),'base_estimator':[bag]}]\n",
    "bagger = GridSearchCV(BaggingClassifier(), param_grid)\n",
    "bag.fit(X_train, Y_train)\n",
    "Y_pred = bag.predict(X_dev)\n",
    "score1 = accuracy_score(Y_dev,Y_pred)\n",
    "print(score1)"
   ]
  },
  {
   "cell_type": "markdown",
   "metadata": {},
   "source": [
    "So we can't see much of of an improvement with furthen ensembling"
   ]
  },
  {
   "cell_type": "markdown",
   "metadata": {},
   "source": [
    "#### Tuning SVM"
   ]
  },
  {
   "cell_type": "code",
   "execution_count": 497,
   "metadata": {},
   "outputs": [
    {
     "name": "stdout",
     "output_type": "stream",
     "text": [
      "0.40594059405940597\n"
     ]
    }
   ],
   "source": [
    "param_grid = [{'n_estimators': np.arange(5,6),'base_estimator':[svm]}]\n",
    "svc1 = GridSearchCV(BaggingClassifier(), param_grid)\n",
    "svc1.fit(X_train, Y_train)\n",
    "Y_pred = svc1.predict(X_dev)\n",
    "score1 = accuracy_score(Y_dev,Y_pred)\n",
    "print(score1)"
   ]
  },
  {
   "cell_type": "markdown",
   "metadata": {},
   "source": [
    "svm with bagging takes lot of time, not much good of accuracy"
   ]
  },
  {
   "cell_type": "markdown",
   "metadata": {},
   "source": [
    "### Voting clssifier of all the baseline models"
   ]
  },
  {
   "cell_type": "code",
   "execution_count": 572,
   "metadata": {},
   "outputs": [
    {
     "name": "stdout",
     "output_type": "stream",
     "text": [
      "0.44554455445544555\n"
     ]
    },
    {
     "name": "stderr",
     "output_type": "stream",
     "text": [
      "C:\\Users\\akshay\\Anaconda3\\lib\\site-packages\\sklearn\\linear_model\\stochastic_gradient.py:128: FutureWarning: max_iter and tol parameters have been added in <class 'sklearn.linear_model.perceptron.Perceptron'> in 0.19. If both are left unset, they default to max_iter=5 and tol=None. If tol is not None, max_iter defaults to max_iter=1000. From 0.21, default max_iter will be 1000, and default tol will be 1e-3.\n",
      "  \"and default tol will be 1e-3.\" % type(self), FutureWarning)\n",
      "C:\\Users\\akshay\\Anaconda3\\lib\\site-packages\\sklearn\\preprocessing\\label.py:151: DeprecationWarning: The truth value of an empty array is ambiguous. Returning False, but in future this will result in an error. Use `array.size > 0` to check that an array is not empty.\n",
      "  if diff:\n"
     ]
    }
   ],
   "source": [
    "from sklearn.ensemble import VotingClassifier\n",
    "# param_grid = [{'estimators':[('dt', dt)]}]#,('svc', svm),('perc',perc)],}]#'voting':'hard','weights':[1,2,2]}]\n",
    "# elcf1 = GridSearchCV(VotingClassifier(), param_grid)\n",
    "eclf = VotingClassifier(estimators=[('dt', dt),('svc', svm),('perc',perc)], voting='hard', weights=[1,3,3]) #('svc', svm),('knn', knn)\n",
    "eclf.fit(X_train, Y_train)\n",
    "Y_pred = eclf.predict(X_dev)\n",
    "score1 = accuracy_score(Y_dev,Y_pred)\n",
    "print(score1)"
   ]
  },
  {
   "cell_type": "markdown",
   "metadata": {},
   "source": [
    "It seem to give a better accuracy as compared to the indicidual accracy of the baseline models\n",
    "Following was the accuracy of the baseline models individually\n",
    "accuarcy  perceptron : 0.39\n",
    "  Classification Report:\n",
    "              precision    recall  f1-score   support\n",
    "\n",
    "        1.0       0.00      0.00      0.00         4\n",
    "        2.0       0.00      0.00      0.00        11\n",
    "        3.0       0.00      0.00      0.00        12\n",
    "        4.0       0.39      1.00      0.56        39\n",
    "        5.0       0.00      0.00      0.00        34\n",
    "\n",
    "avg / total       0.15      0.39      0.22       100\n",
    "\n",
    "\n",
    "accuarcy  knn : 0.35\n",
    "  Classification Report:\n",
    "              precision    recall  f1-score   support\n",
    "\n",
    "        1.0       0.00      0.00      0.00         4\n",
    "        2.0       0.00      0.00      0.00        11\n",
    "        3.0       0.00      0.00      0.00        12\n",
    "        4.0       0.30      0.18      0.23        39\n",
    "        5.0       0.36      0.82      0.50        34\n",
    "\n",
    "avg / total       0.24      0.35      0.26       100\n",
    "\n",
    "\n",
    "accuarcy  decision_tree : 0.33\n",
    "  Classification Report:\n",
    "              precision    recall  f1-score   support\n",
    "\n",
    "        1.0       0.00      0.00      0.00         4\n",
    "        2.0       0.00      0.00      0.00        11\n",
    "        3.0       0.19      0.42      0.26        12\n",
    "        4.0       0.42      0.21      0.28        39\n",
    "        5.0       0.37      0.59      0.45        34\n",
    "\n",
    "avg / total       0.31      0.33      0.29       100\n"
   ]
  },
  {
   "cell_type": "markdown",
   "metadata": {},
   "source": [
    "###### PCA with SVM"
   ]
  },
  {
   "cell_type": "code",
   "execution_count": 938,
   "metadata": {},
   "outputs": [
    {
     "name": "stdout",
     "output_type": "stream",
     "text": [
      "0.35148514851485146\n"
     ]
    }
   ],
   "source": [
    "pipe = PCA_with_SVM(X_train,Y_train)\n",
    "pipe.fit(X_train, Y_train)\n",
    "Y_pred = pipe.predict(X_dev)\n",
    "score = (np.mean(Y_pred == Y_dev))\n",
    "print(score)"
   ]
  },
  {
   "cell_type": "markdown",
   "metadata": {},
   "source": [
    "PCA doesn't give much increase in accuarcy with base SVM"
   ]
  },
  {
   "cell_type": "markdown",
   "metadata": {},
   "source": [
    "### Feature Selection on Random Forest"
   ]
  },
  {
   "cell_type": "code",
   "execution_count": 875,
   "metadata": {},
   "outputs": [
    {
     "name": "stdout",
     "output_type": "stream",
     "text": [
      "0.4752475247524752\n"
     ]
    }
   ],
   "source": [
    "clf = ExtraTreesClassifier()\n",
    "clf = clf.fit(X_train, Y_train)\n",
    "model = SelectFromModel(lv, prefit=True)\n",
    "X_tr_new = model.transform(X_train)\n",
    "X_dv_new = model.transform(X_dev)\n",
    "X_test_new = model.transform(X_test)\n",
    "rand_model =random_forest(X_tr_new,Ytrain,X_dv_new,Ydev)\n",
    "score = prediction(rand_model,X_dv_new,Ydev)\n",
    "print(score)"
   ]
  },
  {
   "cell_type": "code",
   "execution_count": 876,
   "metadata": {},
   "outputs": [
    {
     "name": "stdout",
     "output_type": "stream",
     "text": [
      "0.3811881188118812\n"
     ]
    }
   ],
   "source": [
    "X_test_new = model.transform(X_test)\n",
    "score = prediction(rand_model,X_test_new,Y_test)\n",
    "print(score)"
   ]
  },
  {
   "cell_type": "code",
   "execution_count": 893,
   "metadata": {},
   "outputs": [
    {
     "name": "stdout",
     "output_type": "stream",
     "text": [
      "testing acccuracy with L2 regularization:  0.3811881188118812\n",
      "  Classification Report:\n",
      "              precision    recall  f1-score   support\n",
      "\n",
      "        1.0       0.00      0.00      0.00        14\n",
      "        2.0       0.00      0.00      0.00        18\n",
      "        3.0       0.33      0.10      0.15        50\n",
      "        4.0       0.27      0.46      0.34        50\n",
      "        5.0       0.49      0.70      0.57        70\n",
      "\n",
      "avg / total       0.32      0.38      0.32       202\n",
      " \n",
      "\n",
      "Wall time: 2min 1s\n"
     ]
    }
   ],
   "source": [
    "%%time\n",
    "feature_tuning_rf(X_train,Y_train,X_dev,Y_dev,X_test,Y_test)"
   ]
  },
  {
   "cell_type": "markdown",
   "metadata": {},
   "source": [
    "### PCA with decision tree"
   ]
  },
  {
   "cell_type": "code",
   "execution_count": 455,
   "metadata": {},
   "outputs": [
    {
     "data": {
      "text/plain": [
       "0.4207920792079208"
      ]
     },
     "execution_count": 455,
     "metadata": {},
     "output_type": "execute_result"
    }
   ],
   "source": [
    "score = [0]\n",
    "for i in range(1,20):\n",
    "    estimators1 = [('tree', PCA()), ('clf', DecisionTreeClassifier(max_depth =i,random_state = 4) )]\n",
    "    pipe1 = Pipeline(estimators1)\n",
    "    pipe1.fit(X_train,Y_train)\n",
    "    Y_pred = pipe1.predict(X_dev)\n",
    "    score.append(np.mean(Y_pred == Y_dev))\n",
    "np.sort(score)[::-1][0] "
   ]
  },
  {
   "cell_type": "markdown",
   "metadata": {},
   "source": [
    "It gives better result as compared to decision tree as the baseline model"
   ]
  }
 ],
 "metadata": {
  "kernelspec": {
   "display_name": "Python 3",
   "language": "python",
   "name": "python3"
  },
  "language_info": {
   "codemirror_mode": {
    "name": "ipython",
    "version": 3
   },
   "file_extension": ".py",
   "mimetype": "text/x-python",
   "name": "python",
   "nbconvert_exporter": "python",
   "pygments_lexer": "ipython3",
   "version": "3.6.3"
  }
 },
 "nbformat": 4,
 "nbformat_minor": 2
}
